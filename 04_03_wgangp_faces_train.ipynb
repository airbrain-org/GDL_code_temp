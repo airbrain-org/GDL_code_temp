{
 "cells": [
  {
   "cell_type": "markdown",
   "metadata": {},
   "source": [
    "# WGAN-GP Training"
   ]
  },
  {
   "cell_type": "markdown",
   "metadata": {},
   "source": [
    "## imports"
   ]
  },
  {
   "cell_type": "code",
   "execution_count": 1,
   "metadata": {},
   "outputs": [
    {
     "name": "stderr",
     "output_type": "stream",
     "text": [
      "Using TensorFlow backend.\n"
     ]
    }
   ],
   "source": [
    "%matplotlib inline\n",
    "\n",
    "import os\n",
    "import matplotlib.pyplot as plt\n",
    "\n",
    "from models.WGANGP import WGANGP\n",
    "from utils.loaders import load_celeb\n",
    "\n",
    "import pickle\n"
   ]
  },
  {
   "cell_type": "code",
   "execution_count": 2,
   "metadata": {},
   "outputs": [],
   "source": [
    "# run params\n",
    "SECTION = 'gan'\n",
    "RUN_ID = '0003'\n",
    "DATA_NAME = 'celeb'\n",
    "RUN_FOLDER = 'run/{}/'.format(SECTION)\n",
    "RUN_FOLDER += '_'.join([RUN_ID, DATA_NAME])\n",
    "\n",
    "if not os.path.exists(RUN_FOLDER):\n",
    "    os.mkdir(RUN_FOLDER)\n",
    "    os.mkdir(os.path.join(RUN_FOLDER, 'viz'))\n",
    "    os.mkdir(os.path.join(RUN_FOLDER, 'images'))\n",
    "    os.mkdir(os.path.join(RUN_FOLDER, 'weights'))\n",
    "\n",
    "mode =  'build' #'load' #"
   ]
  },
  {
   "cell_type": "markdown",
   "metadata": {},
   "source": [
    "## data"
   ]
  },
  {
   "cell_type": "code",
   "execution_count": 3,
   "metadata": {},
   "outputs": [],
   "source": [
    "BATCH_SIZE = 64\n",
    "IMAGE_SIZE = 64"
   ]
  },
  {
   "cell_type": "code",
   "execution_count": 4,
   "metadata": {},
   "outputs": [
    {
     "name": "stdout",
     "output_type": "stream",
     "text": [
      "Found 202599 images belonging to 1 classes.\n"
     ]
    }
   ],
   "source": [
    "x_train = load_celeb(DATA_NAME, IMAGE_SIZE, BATCH_SIZE)"
   ]
  },
  {
   "cell_type": "code",
   "execution_count": null,
   "metadata": {},
   "outputs": [
    {
     "data": {
      "text/plain": [
       "array([[[ 0.5058824 ,  0.56078434,  0.6392157 ],\n",
       "        [ 0.5058824 ,  0.56078434,  0.6392157 ],\n",
       "        [ 0.5058824 ,  0.56078434,  0.6392157 ],\n",
       "        ...,\n",
       "        [ 0.5294118 ,  0.58431375,  0.64705884],\n",
       "        [ 0.5294118 ,  0.58431375,  0.64705884],\n",
       "        [ 0.52156866,  0.5764706 ,  0.6392157 ]],\n",
       "\n",
       "       [[ 0.52156866,  0.5764706 ,  0.654902  ],\n",
       "        [ 0.52156866,  0.5764706 ,  0.654902  ],\n",
       "        [ 0.52156866,  0.5764706 ,  0.654902  ],\n",
       "        ...,\n",
       "        [ 0.54509807,  0.6       ,  0.6627451 ],\n",
       "        [ 0.54509807,  0.6       ,  0.6627451 ],\n",
       "        [ 0.54509807,  0.6       ,  0.6627451 ]],\n",
       "\n",
       "       [[ 0.52156866,  0.5764706 ,  0.654902  ],\n",
       "        [ 0.5294118 ,  0.58431375,  0.6627451 ],\n",
       "        [ 0.5372549 ,  0.5921569 ,  0.67058825],\n",
       "        ...,\n",
       "        [ 0.56078434,  0.6156863 ,  0.6784314 ],\n",
       "        [ 0.56078434,  0.6156863 ,  0.6784314 ],\n",
       "        [ 0.5529412 ,  0.60784316,  0.67058825]],\n",
       "\n",
       "       ...,\n",
       "\n",
       "       [[ 0.5058824 ,  0.58431375,  0.6627451 ],\n",
       "        [ 0.58431375,  0.67058825,  0.8117647 ],\n",
       "        [-0.09019608, -0.01176471,  0.2       ],\n",
       "        ...,\n",
       "        [-0.7176471 , -0.60784316, -0.39607844],\n",
       "        [-0.6156863 , -0.5058824 , -0.3019608 ],\n",
       "        [-0.5921569 , -0.48235294, -0.25490198]],\n",
       "\n",
       "       [[ 0.4745098 ,  0.5529412 ,  0.6313726 ],\n",
       "        [ 0.12156863,  0.20784314,  0.34901962],\n",
       "        [-0.6156863 , -0.5372549 , -0.3254902 ],\n",
       "        ...,\n",
       "        [-0.7490196 , -0.6392157 , -0.42745098],\n",
       "        [-0.6       , -0.49019608, -0.28627452],\n",
       "        [-0.6       , -0.49019608, -0.2627451 ]],\n",
       "\n",
       "       [[ 0.5137255 ,  0.5921569 ,  0.67058825],\n",
       "        [ 0.09019608,  0.1764706 ,  0.31764707],\n",
       "        [-0.6392157 , -0.56078434, -0.34901962],\n",
       "        ...,\n",
       "        [-0.7176471 , -0.60784316, -0.39607844],\n",
       "        [-0.58431375, -0.4745098 , -0.27058825],\n",
       "        [-0.58431375, -0.4745098 , -0.24705882]]], dtype=float32)"
      ]
     },
     "execution_count": 5,
     "metadata": {},
     "output_type": "execute_result"
    }
   ],
   "source": [
    "x_train[0][0][0]"
   ]
  },
  {
   "cell_type": "code",
   "execution_count": null,
   "metadata": {},
   "outputs": [
    {
     "data": {
      "text/plain": [
       "<matplotlib.image.AxesImage at 0x7ffabcb61b70>"
      ]
     },
     "execution_count": 6,
     "metadata": {},
     "output_type": "execute_result"
    },
    {
     "data": {
      "image/png": "[encoded data removed]",
      "text/plain": [
       "<Figure size 432x288 with 1 Axes>"
      ]
     },
     "metadata": {
      "needs_background": "light"
     },
     "output_type": "display_data"
    }
   ],
   "source": [
    "plt.imshow((x_train[0][0][0]+1)/2)"
   ]
  },
  {
   "cell_type": "markdown",
   "metadata": {},
   "source": [
    "## architecture"
   ]
  },
  {
   "cell_type": "code",
   "execution_count": null,
   "metadata": {},
   "outputs": [
    {
     "name": "stderr",
     "output_type": "stream",
     "text": [
      "WARNING: Logging before flag parsing goes to stderr.\n",
      "W0126 22:08:11.356811 140716399138624 deprecation_wrapper.py:119] From /usr/local/lib/python3.6/dist-packages/keras/backend/tensorflow_backend.py:517: The name tf.placeholder is deprecated. Please use tf.compat.v1.placeholder instead.\n",
      "\n",
      "W0126 22:08:11.371669 140716399138624 deprecation_wrapper.py:119] From /usr/local/lib/python3.6/dist-packages/keras/backend/tensorflow_backend.py:4115: The name tf.random_normal is deprecated. Please use tf.random.normal instead.\n",
      "\n",
      "W0126 22:08:11.385168 140716399138624 deprecation_wrapper.py:119] From /usr/local/lib/python3.6/dist-packages/keras/backend/tensorflow_backend.py:74: The name tf.get_default_graph is deprecated. Please use tf.compat.v1.get_default_graph instead.\n",
      "\n",
      "W0126 22:08:11.492088 140716399138624 deprecation_wrapper.py:119] From /usr/local/lib/python3.6/dist-packages/keras/backend/tensorflow_backend.py:133: The name tf.placeholder_with_default is deprecated. Please use tf.compat.v1.placeholder_with_default instead.\n",
      "\n",
      "W0126 22:08:11.551648 140716399138624 deprecation_wrapper.py:119] From /usr/local/lib/python3.6/dist-packages/keras/backend/tensorflow_backend.py:174: The name tf.get_default_session is deprecated. Please use tf.compat.v1.get_default_session instead.\n",
      "\n",
      "W0126 22:08:11.670794 140716399138624 deprecation_wrapper.py:119] From /usr/local/lib/python3.6/dist-packages/keras/backend/tensorflow_backend.py:1834: The name tf.nn.fused_batch_norm is deprecated. Please use tf.compat.v1.nn.fused_batch_norm instead.\n",
      "\n",
      "W0126 22:08:12.279332 140716399138624 deprecation_wrapper.py:119] From /usr/local/lib/python3.6/dist-packages/keras/optimizers.py:790: The name tf.train.Optimizer is deprecated. Please use tf.compat.v1.train.Optimizer instead.\n",
      "\n"
     ]
    }
   ],
   "source": [
    "gan = WGANGP(input_dim = (IMAGE_SIZE,IMAGE_SIZE,3)\n",
    "        , critic_conv_filters = [64,128,256,512]\n",
    "        , critic_conv_kernel_size = [5,5,5,5]\n",
    "        , critic_conv_strides = [2,2,2,2]\n",
    "        , critic_batch_norm_momentum = None\n",
    "        , critic_activation = 'leaky_relu'\n",
    "        , critic_dropout_rate = None\n",
    "        , critic_learning_rate = 0.0002\n",
    "        , generator_initial_dense_layer_size = (4, 4, 512)\n",
    "        , generator_upsample = [1,1,1,1]\n",
    "        , generator_conv_filters = [256,128,64,3]\n",
    "        , generator_conv_kernel_size = [5,5,5,5]\n",
    "        , generator_conv_strides = [2,2,2,2]\n",
    "        , generator_batch_norm_momentum = 0.9\n",
    "        , generator_activation = 'leaky_relu'\n",
    "        , generator_dropout_rate = None\n",
    "        , generator_learning_rate = 0.0002\n",
    "        , optimiser = 'adam'\n",
    "        , grad_weight = 10\n",
    "        , z_dim = 100\n",
    "        , batch_size = BATCH_SIZE\n",
    "        )\n",
    "\n",
    "if mode == 'build':\n",
    "    gan.save(RUN_FOLDER)\n",
    "\n",
    "else:\n",
    "    gan.load_weights(os.path.join(RUN_FOLDER, 'weights/weights.h5'))\n",
    "\n",
    "\n"
   ]
  },
  {
   "cell_type": "code",
   "execution_count": null,
   "metadata": {},
   "outputs": [
    {
     "name": "stdout",
     "output_type": "stream",
     "text": [
      "_________________________________________________________________\n",
      "Layer (type)                 Output Shape              Param #   \n",
      "=================================================================\n",
      "critic_input (InputLayer)    (None, 64, 64, 3)         0         \n",
      "_________________________________________________________________\n",
      "critic_conv_0 (Conv2D)       (None, 32, 32, 64)        4864      \n",
      "_________________________________________________________________\n",
      "leaky_re_lu_1 (LeakyReLU)    (None, 32, 32, 64)        0         \n",
      "_________________________________________________________________\n",
      "critic_conv_1 (Conv2D)       (None, 16, 16, 128)       204928    \n",
      "_________________________________________________________________\n",
      "leaky_re_lu_2 (LeakyReLU)    (None, 16, 16, 128)       0         \n",
      "_________________________________________________________________\n",
      "critic_conv_2 (Conv2D)       (None, 8, 8, 256)         819456    \n",
      "_________________________________________________________________\n",
      "leaky_re_lu_3 (LeakyReLU)    (None, 8, 8, 256)         0         \n",
      "_________________________________________________________________\n",
      "critic_conv_3 (Conv2D)       (None, 4, 4, 512)         3277312   \n",
      "_________________________________________________________________\n",
      "leaky_re_lu_4 (LeakyReLU)    (None, 4, 4, 512)         0         \n",
      "_________________________________________________________________\n",
      "flatten_1 (Flatten)          (None, 8192)              0         \n",
      "_________________________________________________________________\n",
      "dense_1 (Dense)              (None, 1)                 8193      \n",
      "=================================================================\n",
      "Total params: 4,314,753\n",
      "Trainable params: 4,314,753\n",
      "Non-trainable params: 0\n",
      "_________________________________________________________________\n"
     ]
    }
   ],
   "source": [
    "gan.critic.summary()"
   ]
  },
  {
   "cell_type": "code",
   "execution_count": null,
   "metadata": {},
   "outputs": [
    {
     "name": "stdout",
     "output_type": "stream",
     "text": [
      "_________________________________________________________________\n",
      "Layer (type)                 Output Shape              Param #   \n",
      "=================================================================\n",
      "generator_input (InputLayer) (None, 100)               0         \n",
      "_________________________________________________________________\n",
      "dense_2 (Dense)              (None, 8192)              827392    \n",
      "_________________________________________________________________\n",
      "batch_normalization_1 (Batch (None, 8192)              32768     \n",
      "_________________________________________________________________\n",
      "leaky_re_lu_5 (LeakyReLU)    (None, 8192)              0         \n",
      "_________________________________________________________________\n",
      "reshape_1 (Reshape)          (None, 4, 4, 512)         0         \n",
      "_________________________________________________________________\n",
      "generator_conv_0 (Conv2DTran (None, 8, 8, 256)         3277056   \n",
      "_________________________________________________________________\n",
      "batch_normalization_2 (Batch (None, 8, 8, 256)         1024      \n",
      "_________________________________________________________________\n",
      "leaky_re_lu_6 (LeakyReLU)    (None, 8, 8, 256)         0         \n",
      "_________________________________________________________________\n",
      "generator_conv_1 (Conv2DTran (None, 16, 16, 128)       819328    \n",
      "_________________________________________________________________\n",
      "batch_normalization_3 (Batch (None, 16, 16, 128)       512       \n",
      "_________________________________________________________________\n",
      "leaky_re_lu_7 (LeakyReLU)    (None, 16, 16, 128)       0         \n",
      "_________________________________________________________________\n",
      "generator_conv_2 (Conv2DTran (None, 32, 32, 64)        204864    \n",
      "_________________________________________________________________\n",
      "batch_normalization_4 (Batch (None, 32, 32, 64)        256       \n",
      "_________________________________________________________________\n",
      "leaky_re_lu_8 (LeakyReLU)    (None, 32, 32, 64)        0         \n",
      "_________________________________________________________________\n",
      "generator_conv_3 (Conv2DTran (None, 64, 64, 3)         4803      \n",
      "_________________________________________________________________\n",
      "activation_1 (Activation)    (None, 64, 64, 3)         0         \n",
      "=================================================================\n",
      "Total params: 5,168,003\n",
      "Trainable params: 5,150,723\n",
      "Non-trainable params: 17,280\n",
      "_________________________________________________________________\n"
     ]
    }
   ],
   "source": [
    "gan.generator.summary()"
   ]
  },
  {
   "cell_type": "markdown",
   "metadata": {},
   "source": [
    "## training"
   ]
  },
  {
   "cell_type": "code",
   "execution_count": null,
   "metadata": {},
   "outputs": [],
   "source": [
    "EPOCHS = 6000\n",
    "PRINT_EVERY_N_BATCHES = 5\n",
    "N_CRITIC = 5\n",
    "BATCH_SIZE = 64"
   ]
  },
  {
   "cell_type": "code",
   "execution_count": null,
   "metadata": {},
   "outputs": [
    {
     "name": "stderr",
     "output_type": "stream",
     "text": [
      "/usr/local/lib/python3.6/dist-packages/keras/engine/training.py:490: UserWarning: Discrepancy between trainable weights and collected trainable weights, did you set `model.trainable` without calling `model.compile` after ?\n",
      "  'Discrepancy between trainable weights and collected trainable'\n",
      "W0126 22:08:14.395804 140716399138624 deprecation.py:323] From /usr/local/lib/python3.6/dist-packages/tensorflow/python/ops/math_grad.py:1250: add_dispatch_support.<locals>.wrapper (from tensorflow.python.ops.array_ops) is deprecated and will be removed in a future version.\n",
      "Instructions for updating:\n",
      "Use tf.where in 2.0, which has the same broadcast rule as np.where\n",
      "/usr/local/lib/python3.6/dist-packages/keras/engine/training.py:490: UserWarning: Discrepancy between trainable weights and collected trainable weights, did you set `model.trainable` without calling `model.compile` after ?\n",
      "  'Discrepancy between trainable weights and collected trainable'\n"
     ]
    },
    {
     "name": "stdout",
     "output_type": "stream",
     "text": [
      "0 (5, 1) [D loss: (0.7)(R -4.9, F -0.1, G 0.6)] [G loss: 0.2]\n"
     ]
    },
    {
     "name": "stderr",
     "output_type": "stream",
     "text": [
      "/usr/local/lib/python3.6/dist-packages/keras/engine/training.py:490: UserWarning: Discrepancy between trainable weights and collected trainable weights, did you set `model.trainable` without calling `model.compile` after ?\n",
      "  'Discrepancy between trainable weights and collected trainable'\n"
     ]
    },
    {
     "name": "stdout",
     "output_type": "stream",
     "text": [
      "1 (5, 1) [D loss: (-71.1)(R -127.2, F 8.6, G 4.7)] [G loss: -11.1]\n",
      "2 (5, 1) [D loss: (-115.1)(R -216.3, F 26.4, G 7.5)] [G loss: -19.4]\n",
      "3 (5, 1) [D loss: (-128.9)(R -248.6, F 26.8, G 9.3)] [G loss: -15.5]\n",
      "4 (5, 1) [D loss: (-116.8)(R -195.6, F 13.7, G 6.5)] [G loss: -9.5]\n",
      "5 (5, 1) [D loss: (-120.1)(R -207.3, F 16.3, G 7.1)] [G loss: -10.0]\n",
      "6 (5, 1) [D loss: (-125.6)(R -201.5, F 18.7, G 5.7)] [G loss: -25.3]\n",
      "7 (5, 1) [D loss: (-116.2)(R -237.8, F 24.2, G 9.7)] [G loss: -10.5]\n",
      "8 (5, 1) [D loss: (-109.2)(R -187.2, F 27.2, G 5.1)] [G loss: -29.3]\n",
      "9 (5, 1) [D loss: (-119.8)(R -177.0, F 14.1, G 4.3)] [G loss: -28.7]\n",
      "10 (5, 1) [D loss: (-118.8)(R -213.0, F 23.0, G 7.1)] [G loss: -3.1]\n",
      "11 (5, 1) [D loss: (-104.7)(R -187.7, F 16.2, G 6.7)] [G loss: -10.7]\n",
      "12 (5, 1) [D loss: (-106.1)(R -145.1, F -1.5, G 4.1)] [G loss: -25.9]\n",
      "13 (5, 1) [D loss: (-111.6)(R -194.6, F 29.6, G 5.3)] [G loss: -23.0]\n",
      "14 (5, 1) [D loss: (-119.1)(R -210.9, F 24.0, G 6.8)] [G loss: -5.9]\n",
      "15 (5, 1) [D loss: (-88.0)(R -215.4, F 43.7, G 8.4)] [G loss: -11.1]\n",
      "16 (5, 1) [D loss: (-102.7)(R -196.6, F 39.3, G 5.5)] [G loss: -42.1]\n",
      "17 (5, 1) [D loss: (-119.3)(R -195.0, F 20.8, G 5.5)] [G loss: -27.8]\n",
      "18 (5, 1) [D loss: (-98.6)(R -166.8, F 22.6, G 4.6)] [G loss: -27.8]\n",
      "19 (5, 1) [D loss: (-88.5)(R -189.1, F 57.8, G 4.3)] [G loss: -29.9]\n",
      "20 (5, 1) [D loss: (-78.4)(R -157.5, F 31.9, G 4.7)] [G loss: -60.9]\n",
      "21 (5, 1) [D loss: (-87.6)(R -178.3, F 56.9, G 3.4)] [G loss: -61.9]\n",
      "22 (5, 1) [D loss: (-72.3)(R -159.2, F 50.4, G 3.7)] [G loss: -49.5]\n",
      "23 (5, 1) [D loss: (-79.1)(R -157.5, F 39.3, G 3.9)] [G loss: -51.3]\n",
      "24 (5, 1) [D loss: (-74.1)(R -155.5, F 48.2, G 3.3)] [G loss: -56.3]\n",
      "25 (5, 1) [D loss: (-65.3)(R -155.4, F 55.4, G 3.5)] [G loss: -39.4]\n",
      "26 (5, 1) [D loss: (-67.1)(R -178.2, F 78.5, G 3.3)] [G loss: -86.3]\n",
      "27 (5, 1) [D loss: (-50.1)(R -173.8, F 91.1, G 3.3)] [G loss: -35.6]\n",
      "28 (5, 1) [D loss: (-53.0)(R -141.6, F 67.1, G 2.2)] [G loss: -51.6]\n",
      "29 (5, 1) [D loss: (-60.5)(R -139.2, F 56.2, G 2.2)] [G loss: -41.7]\n",
      "30 (5, 1) [D loss: (-49.5)(R -164.9, F 93.2, G 2.2)] [G loss: -73.7]\n",
      "31 (5, 1) [D loss: (-41.1)(R -65.2, F -1.3, G 2.5)] [G loss: -92.3]\n",
      "32 (5, 1) [D loss: (-40.4)(R -143.6, F 87.1, G 1.6)] [G loss: -58.3]\n",
      "33 (5, 1) [D loss: (-37.1)(R -125.4, F 70.8, G 1.8)] [G loss: -62.1]\n",
      "34 (5, 1) [D loss: (-39.9)(R -134.7, F 80.0, G 1.5)] [G loss: -72.5]\n",
      "35 (5, 1) [D loss: (-28.5)(R -132.8, F 89.6, G 1.5)] [G loss: -31.5]\n",
      "36 (5, 1) [D loss: (-33.8)(R -101.8, F 57.1, G 1.1)] [G loss: -67.7]\n",
      "37 (5, 1) [D loss: (-31.2)(R -92.5, F 52.8, G 0.9)] [G loss: -71.3]\n",
      "38 (5, 1) [D loss: (-40.5)(R -92.1, F 38.5, G 1.3)] [G loss: -51.4]\n"
     ]
    }
   ],
   "source": [
    "gan.train(     \n",
    "    x_train\n",
    "    , batch_size = BATCH_SIZE\n",
    "    , epochs = EPOCHS\n",
    "    , run_folder = RUN_FOLDER\n",
    "    , print_every_n_batches = PRINT_EVERY_N_BATCHES\n",
    "    , n_critic = N_CRITIC\n",
    "    , using_generator = True\n",
    ")"
   ]
  },
  {
   "cell_type": "code",
   "execution_count": null,
   "metadata": {},
   "outputs": [],
   "source": [
    "fig = plt.figure()\n",
    "plt.plot([x[0] for x in gan.d_losses], color='black', linewidth=0.25)\n",
    "\n",
    "plt.plot([x[1] for x in gan.d_losses], color='green', linewidth=0.25)\n",
    "plt.plot([x[2] for x in gan.d_losses], color='red', linewidth=0.25)\n",
    "plt.plot(gan.g_losses, color='orange', linewidth=0.25)\n",
    "\n",
    "plt.xlabel('batch', fontsize=18)\n",
    "plt.ylabel('loss', fontsize=16)\n",
    "\n",
    "plt.xlim(0, 2000)\n",
    "# plt.ylim(0, 2)\n",
    "\n",
    "plt.show()\n"
   ]
  },
  {
   "cell_type": "code",
   "execution_count": null,
   "metadata": {},
   "outputs": [],
   "source": []
  }
 ],
 "metadata": {
  "kernelspec": {
   "display_name": "Python 3",
   "language": "python",
   "name": "python3"
  },
  "language_info": {
   "codemirror_mode": {
    "name": "ipython",
    "version": 3
   },
   "file_extension": ".py",
   "mimetype": "text/x-python",
   "name": "python",
   "nbconvert_exporter": "python",
   "pygments_lexer": "ipython3",
   "version": "3.6.9"
  }
 },
 "nbformat": 4,
 "nbformat_minor": 2
}
